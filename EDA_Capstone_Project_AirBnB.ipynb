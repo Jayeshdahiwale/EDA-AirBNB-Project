{
  "nbformat": 4,
  "nbformat_minor": 0,
  "metadata": {
    "colab": {
      "private_outputs": true,
      "provenance": [],
      "collapsed_sections": [
        "vncDsAP0Gaoa",
        "FJNUwmbgGyua",
        "w6K7xa23Elo4",
        "yQaldy8SH6Dl",
        "PH-0ReGfmX4f",
        "mDgbUHAGgjLW",
        "O_i_v8NEhb9l",
        "HhfV-JJviCcP",
        "Y3lxredqlCYt",
        "3RnN4peoiCZX",
        "x71ZqKXriCWQ",
        "7hBIi_osiCS2",
        "JlHwYmJAmNHm",
        "35m5QtbWiB9F",
        "PoPl-ycgm1ru",
        "H0kj-8xxnORC",
        "nA9Y7ga8ng1Z",
        "PBTbrJXOngz2",
        "u3PMJOP6ngxN",
        "dauF4eBmngu3",
        "bKJF3rekwFvQ",
        "MSa1f5Uengrz",
        "GF8Ens_Soomf",
        "0wOQAZs5pc--",
        "K5QZ13OEpz2H",
        "lQ7QKXXCp7Bj",
        "448CDAPjqfQr",
        "KSlN3yHqYklG",
        "t6dVpIINYklI",
        "ijmpgYnKYklI",
        "-JiQyfWJYklI",
        "EM7whBJCYoAo",
        "fge-S5ZAYoAp",
        "85gYPyotYoAp",
        "RoGjAbkUYoAp",
        "4Of9eVA-YrdM",
        "iky9q4vBYrdO",
        "F6T5p64dYrdO",
        "y-Ehk30pYrdP",
        "bamQiAODYuh1",
        "QHF8YVU7Yuh3",
        "GwzvFGzlYuh3",
        "qYpmQ266Yuh3",
        "OH-pJp9IphqM",
        "bbFf2-_FphqN",
        "_ouA3fa0phqN",
        "Seke61FWphqN",
        "PIIx-8_IphqN",
        "t27r6nlMphqO",
        "r2jJGEOYphqO",
        "b0JNsNcRphqO",
        "BZR9WyysphqO",
        "jj7wYXLtphqO",
        "eZrbJ2SmphqO",
        "rFu4xreNphqO",
        "YJ55k-q6phqO",
        "gCFgpxoyphqP",
        "OVtJsKN_phqQ",
        "lssrdh5qphqQ",
        "U2RJ9gkRphqQ",
        "1M8mcRywphqQ",
        "tgIPom80phqQ",
        "JMzcOPDDphqR",
        "x-EpHcCOp1ci",
        "X_VqEhTip1ck",
        "8zGJKyg5p1ck",
        "PVzmfK_Ep1ck",
        "n3dbpmDWp1ck",
        "ylSl6qgtp1ck",
        "ZWILFDl5p1ck",
        "M7G43BXep1ck",
        "Ag9LCva-p1cl",
        "E6MkPsBcp1cl",
        "2cELzS2fp1cl",
        "3MPXvC8up1cl",
        "NC_X3p0fY2L0",
        "UV0SzAkaZNRQ",
        "YPEH6qLeZNRQ",
        "q29F0dvdveiT",
        "EXh0U9oCveiU",
        "22aHeOlLveiV",
        "JcMwzZxoAimU",
        "8G2x9gOozGDZ",
        "gCX9965dhzqZ",
        "gIfDvo9L0UH2"
      ],
      "include_colab_link": true
    },
    "kernelspec": {
      "name": "python3",
      "display_name": "Python 3"
    },
    "language_info": {
      "name": "python"
    }
  },
  "cells": [
    {
      "cell_type": "markdown",
      "metadata": {
        "id": "view-in-github",
        "colab_type": "text"
      },
      "source": [
        "<a href=\"https://colab.research.google.com/github/Jayeshdahiwale/EDA-AirBNB-Project/blob/main/EDA_Capstone_Project_AirBnB.ipynb\" target=\"_parent\"><img src=\"https://colab.research.google.com/assets/colab-badge.svg\" alt=\"Open In Colab\"/></a>"
      ]
    },
    {
      "cell_type": "markdown",
      "source": [
        "# **Project Name**    - AirBnB Booking Analysis\n",
        "\n"
      ],
      "metadata": {
        "id": "vncDsAP0Gaoa"
      }
    },
    {
      "cell_type": "markdown",
      "source": [
        "##### **Project Type**    - EDA\n",
        "##### **Contribution**    - Individual\n",
        "##### **Member 1 -**  - Jayesh Prakash Dahiwale\n"
      ],
      "metadata": {
        "id": "beRrZCGUAJYm"
      }
    },
    {
      "cell_type": "markdown",
      "source": [
        "# **Project Summary -**"
      ],
      "metadata": {
        "id": "FJNUwmbgGyua"
      }
    },
    {
      "cell_type": "markdown",
      "source": [
        "**Since 2008, guests and hosts have used Airbnb to expand on traveling possibilities and present a more unique, personalized way of experiencing the world. Today, Airbnb became one of a kind service that is used and recognized by the whole world. Data analysis on millions of listings provided through Airbnb is a crucial factor for the company. These millions of listings generate a lot of data - data that can be analyzed and used for security, business decisions, understanding of customers' and providers' (hosts) behavior and performance on the platform, guiding marketing initiatives, implementation of innovative additional services and much more.**\n",
        "##<p>This dataset has around <b>49,000</b> observations in it with <b>16</b> columns and it is a mix between categorical and numeric values.</p>\n",
        "## <p> Explore and analyze the data to discover key understandings (not limited to these) such as : \n",
        "* What can we learn about different hosts and areas?\n",
        "* What can we learn from predictions? (ex: locations, prices, reviews, etc)\n",
        "* Which hosts are the busiest and why?\n",
        "* Is there any noticeable difference of traffic among different areas and what could be the reason for it? </p>"
      ],
      "metadata": {
        "id": "F6v_1wHtG2nS"
      }
    },
    {
      "cell_type": "markdown",
      "source": [
        "# **GitHub Link -**"
      ],
      "metadata": {
        "id": "w6K7xa23Elo4"
      }
    },
    {
      "cell_type": "markdown",
      "source": [
        "https://github.com/Jayeshdahiwale/AddressBook/blob/master/EDA_Capstone_Project_AirBnB.ipynb"
      ],
      "metadata": {
        "id": "h1o69JH3Eqqn"
      }
    },
    {
      "cell_type": "markdown",
      "source": [
        "# **DataSet Link -**"
      ],
      "metadata": {
        "id": "d1GjmOWgPlgc"
      }
    },
    {
      "cell_type": "markdown",
      "source": [
        "Dataset Link: https://drive.google.com/file/d/1ioU5r9KEYSfwgfUi22SclVkx4l1a_8ou/view\n",
        "<br>\n",
        "Dataset DriveLink:https://drive.google.com/file/d/185htr6OyxAZ0xb9QwxHpsUn8eTlq58v5/view?usp=share_link"
      ],
      "metadata": {
        "id": "sliViF0jPtgu"
      }
    },
    {
      "cell_type": "markdown",
      "source": [
        "# **Problem Statement**\n"
      ],
      "metadata": {
        "id": "yQaldy8SH6Dl"
      }
    },
    {
      "cell_type": "markdown",
      "source": [
        "\n",
        "\n",
        "## **Questions for analysis are as follows**\n",
        "**1) Which hosts are having highest number of appartments ?**\n",
        "\n",
        "**2) Which are the top 10 neighbourhood which are having maximum number of appartments for airbnb in the respective neighbourhood ?**\n",
        "\n",
        "**3) What are the neighbourhood in each group which are having maximum prices in thier rspective neighbourhood_group ?**\n",
        "\n",
        "**4) How neighborhood is related with reviews ?**\n",
        "\n",
        "**5) What can we learn from predictions? (ex: locations, prices, reviews, etc)**\n",
        "\n",
        "**6) What is the distribution of the room type and its distribution over the location ?**\n",
        "\n",
        "\n",
        "\n",
        "**7) How does the Room_type is distributed over Neighbourhood_Group are the ratios of respective room_types more or less same over each neighbourhood_group ?**\n",
        "\n",
        "**8) How the price column is distributed over room_type and are there any Surprising items in price column ?**\n",
        "**9) Which are the top 5 hosts that have obatained heighest no. of reviews ?**\n",
        "\n",
        "**10) What is the average preferred price by customers according to the neighbourhood_group for each category of Room_type?**\n",
        "\n",
        "**11) What is the average price prefred for Keeping good number_of_reviews according to neighbourhood_group ?**\n",
        "\n",
        "\n",
        "**12) Which neighbourhood have most of the host focused to own property ?**\n"
      ],
      "metadata": {
        "id": "DpeJGUA3kjGy"
      }
    },
    {
      "cell_type": "markdown",
      "source": [
        "#### **Define Your Business Objective?**"
      ],
      "metadata": {
        "id": "PH-0ReGfmX4f"
      }
    },
    {
      "cell_type": "markdown",
      "source": [
        "Increase the number of bookings by putting the rates at at optimal rate and finding the bast suitalbe condition which attract the customers thereby increasing the profit for the Hotels."
      ],
      "metadata": {
        "id": "PhDvGCAqmjP1"
      }
    },
    {
      "cell_type": "markdown",
      "source": [
        "## **Importing the required packages**"
      ],
      "metadata": {
        "id": "IkikXoI50aJd"
      }
    },
    {
      "cell_type": "code",
      "source": [
        "import numpy as np\n",
        "import pandas as pd\n",
        "import matplotlib.pyplot as plt\n",
        "import seaborn as sns\n",
        "%matplotlib inline\n",
        "import warnings\n",
        "warnings.filterwarnings('ignore')\n"
      ],
      "metadata": {
        "id": "ugsJi7bk0gss"
      },
      "execution_count": null,
      "outputs": []
    },
    {
      "cell_type": "code",
      "source": [
        "# mount the google drive\n",
        "from google.colab import drive\n",
        "drive.mount('/content/drive')"
      ],
      "metadata": {
        "id": "cgIqljBG1PCH"
      },
      "execution_count": null,
      "outputs": []
    },
    {
      "cell_type": "code",
      "source": [
        "# Reading the dataset file\n",
        "# dataset file googgle drive link : https://drive.google.com/file/d/185htr6OyxAZ0xb9QwxHpsUn8eTlq58v5/view?usp=share_link\n",
        "working_directory_path = '/content/drive/MyDrive/EDA AirBnB Analysis Project/'\n",
        "df = pd.read_csv(working_directory_path + 'Airbnb NYC 2019.csv')"
      ],
      "metadata": {
        "id": "7fIvHBHO2v1I"
      },
      "execution_count": null,
      "outputs": []
    },
    {
      "cell_type": "code",
      "source": [
        "df.head()"
      ],
      "metadata": {
        "id": "oVhpTAQY3zXw"
      },
      "execution_count": null,
      "outputs": []
    },
    {
      "cell_type": "code",
      "source": [
        "df.info()"
      ],
      "metadata": {
        "id": "ivc5bzQD4OQ9"
      },
      "execution_count": null,
      "outputs": []
    },
    {
      "cell_type": "code",
      "source": [
        "df.isna().sum()"
      ],
      "metadata": {
        "id": "OH-7vhpq4m26"
      },
      "execution_count": null,
      "outputs": []
    },
    {
      "cell_type": "markdown",
      "source": [
        "# **<p>Lets check the column with null values</p>**"
      ],
      "metadata": {
        "id": "bb0kQwrv5WON"
      }
    },
    {
      "cell_type": "code",
      "source": [
        "df.loc[:,df.isna().sum()!=0]"
      ],
      "metadata": {
        "id": "OYhQqdj-5l5-"
      },
      "execution_count": null,
      "outputs": []
    },
    {
      "cell_type": "code",
      "source": [
        "df.describe()"
      ],
      "metadata": {
        "id": "myuSGIi75_ZY"
      },
      "execution_count": null,
      "outputs": []
    },
    {
      "cell_type": "markdown",
      "source": [
        "In above case we found out that minimum price for hotel is zero. Which does not make any sense for the business to grow..It might be the case that some lottery was rolled out for the customer and got a chance to live in the hotel for free."
      ],
      "metadata": {
        "id": "SWrvO0PGpxBM"
      }
    },
    {
      "cell_type": "code",
      "source": [
        "# Lets try to find out precentage of data having availability_365==0\n",
        "percentage_availability_0 = round(df.loc[df['availability_365']==0,'availability_365'].count()*100/df.shape[0],2)\n",
        "print(percentage_availability_0)"
      ],
      "metadata": {
        "id": "wqZX9fT7mEET"
      },
      "execution_count": null,
      "outputs": []
    },
    {
      "cell_type": "markdown",
      "source": [
        "Here we can observe one thing that the availability_365 days column has value zero in 35.86 percent of the data...It is practically impossible that in a span of 1 year that hotel is never available ... So either the case is any one person has rented it for a year which generally for hotels is not the case...And second thing that hotel is one of the super dooper busiest thing , at every seconds room is getting booked. \n",
        "<p>We can't even delete this column becasue this column will show how demanding the particular hotel is and not even rows corresponding to it as the data is 36 % which is considerable amount of size.</p>"
      ],
      "metadata": {
        "id": "V30u8Y5zoPFD"
      }
    },
    {
      "cell_type": "markdown",
      "source": [
        "Checking the last_review wise count when the availability was 0"
      ],
      "metadata": {
        "id": "ESRDnYAOrSzh"
      }
    },
    {
      "cell_type": "code",
      "source": [
        "df[df['availability_365']==0].groupby(['last_review']).size().sort_values(ascending=False)"
      ],
      "metadata": {
        "id": "WHr2oWR8rhlD"
      },
      "execution_count": null,
      "outputs": []
    },
    {
      "cell_type": "markdown",
      "source": [
        "Above we observed from the last review that in any year, in the motnh of january the availability is close to zero.\n",
        "It is mainly due to new year or christmas celebrations.\n",
        "# **Lets see this by visualization**"
      ],
      "metadata": {
        "id": "9WNe_ylDu2JX"
      }
    },
    {
      "cell_type": "code",
      "source": [
        "# Make a function which take the dates and extract month\n",
        "from datetime import datetime\n",
        "def extract_month_year(date):\n",
        "  extracted_date = datetime.strptime(date,'%Y-%m-%d')\n",
        "  month = extracted_date.month\n",
        "  year = extracted_date.year\n",
        "  return month,year\n"
      ],
      "metadata": {
        "id": "ZcrIs_IOvl4T"
      },
      "execution_count": null,
      "outputs": []
    },
    {
      "cell_type": "code",
      "source": [
        "df[['month','year']] = df.loc[~df['last_review'].isna(),'last_review'].map(extract_month_year).apply(pd.Series)\n"
      ],
      "metadata": {
        "id": "NCW-8eIZxXOd"
      },
      "execution_count": null,
      "outputs": []
    },
    {
      "cell_type": "code",
      "source": [
        "df.info()"
      ],
      "metadata": {
        "id": "StfBkUYJng4P"
      },
      "execution_count": null,
      "outputs": []
    },
    {
      "cell_type": "code",
      "source": [
        "\n",
        "monthly_availability = df[~df['month'].isna()].groupby(['month','year'])['availability_365'].sum().unstack()"
      ],
      "metadata": {
        "id": "n0712dLF0Z5k"
      },
      "execution_count": null,
      "outputs": []
    },
    {
      "cell_type": "code",
      "source": [
        "monthly_availability.fillna(0)"
      ],
      "metadata": {
        "id": "Xz8wpTxHtEyM"
      },
      "execution_count": null,
      "outputs": []
    },
    {
      "cell_type": "code",
      "source": [
        "# Lets plot the monthly availability trend during all years\n",
        "monthly_availability.plot()\n",
        "\n",
        "plt.title('Total Monthly availability  for all year')\n",
        "plt.ylabel('Number of availabilities')\n",
        "plt.xlabel('Months')"
      ],
      "metadata": {
        "id": "kEaMGSd2tK9z"
      },
      "execution_count": null,
      "outputs": []
    },
    {
      "cell_type": "markdown",
      "source": [
        "From above visualisation we found out that the number of avaialbilies are very high for the year 2019. It is very alarming condingtions for hotels. But for the other years the trend is looking common... So lets visualise for other months without putting 2019 data."
      ],
      "metadata": {
        "id": "UFNUqh_6tge1"
      }
    },
    {
      "cell_type": "code",
      "source": [
        "# Without using 2019 as year\n",
        "d = df[df['year']!=2019.0]"
      ],
      "metadata": {
        "id": "FJevtCjmrkiB"
      },
      "execution_count": null,
      "outputs": []
    },
    {
      "cell_type": "code",
      "source": [
        "monthly_availability=d.groupby(['month','year'])['availability_365'].sum().unstack()"
      ],
      "metadata": {
        "id": "ULvR_6ibru4H"
      },
      "execution_count": null,
      "outputs": []
    },
    {
      "cell_type": "code",
      "source": [
        "# Lets plot the monthly availability trend during all years\n",
        "monthly_availability.plot()\n",
        "\n",
        "plt.title('Total Monthly availability  for all year')\n",
        "plt.ylabel('Number of availabilities')\n",
        "plt.xlabel('Months')"
      ],
      "metadata": {
        "id": "TqHvADQ7l9uh"
      },
      "execution_count": null,
      "outputs": []
    },
    {
      "cell_type": "markdown",
      "source": [
        "#<p>Here we found out very interesting thing... That for every year the trend of availability in given months is follwing common behaviour.<p>\n",
        "**For January**: The availability is bit higher <br>\n",
        "**February**: Availability comes down steeply. Gets slight busier<br>\n",
        "**Till May**: Avaialability again increases<br>\n",
        "**June**: Comes down(gets busier) <br>\n",
        "**Till september**: Availability again increases <br>\n",
        "**In Novemeber**: The peak of availability hits the down pick<br>\n"
      ],
      "metadata": {
        "id": "nsDOoznDudq7"
      }
    },
    {
      "cell_type": "markdown",
      "source": [
        "We observed that for some hotels the price went up to 0. Which is not profitalbe for any hotels. So updating such values with median prices of every kind of room type"
      ],
      "metadata": {
        "id": "vbBxSyiuwjdG"
      }
    },
    {
      "cell_type": "code",
      "source": [
        "# first getting the kind of room types available\n",
        "df['room_type'].unique()"
      ],
      "metadata": {
        "id": "ju6buTsTwilP"
      },
      "execution_count": null,
      "outputs": []
    },
    {
      "cell_type": "code",
      "source": [
        "df.loc[(df['room_type']=='Private room') & (df['price']==0),'price'] = df.loc[(df['room_type']=='Private room') & (df['price']!=0),'price'].median()\n",
        "df.loc[(df['room_type']=='Entire home/apt') & (df['price']==0),'price'] = df.loc[(df['room_type']=='Entire home/apt') & (df['price']!=0),'price'].median()\n",
        "df.loc[(df['room_type']=='Shared room') & (df['price']==0),'price'] = df.loc[(df['room_type']=='Shared room') & (df['price']!=0),'price'].median()\n"
      ],
      "metadata": {
        "id": "3Crx6K_exaAn"
      },
      "execution_count": null,
      "outputs": []
    },
    {
      "cell_type": "code",
      "source": [
        "df.describe()"
      ],
      "metadata": {
        "id": "w4RsZRoyzBqY"
      },
      "execution_count": null,
      "outputs": []
    },
    {
      "cell_type": "code",
      "source": [
        "df.info()"
      ],
      "metadata": {
        "id": "yh40DQzJz5oc"
      },
      "execution_count": null,
      "outputs": []
    },
    {
      "cell_type": "markdown",
      "source": [
        "# **Question1: Lets find out which host has highest no of apartments**"
      ],
      "metadata": {
        "id": "odTSly_50F8Z"
      }
    },
    {
      "cell_type": "code",
      "source": [
        "# lets first check the unique host name value counts\n",
        "df['host_name'].value_counts()"
      ],
      "metadata": {
        "id": "XPM0V5zM0Y4U"
      },
      "execution_count": null,
      "outputs": []
    },
    {
      "cell_type": "code",
      "source": [
        "# NOw lets check the unique host_id value counts\n",
        "df['host_id'].value_counts()"
      ],
      "metadata": {
        "id": "nc5gemo91G6v"
      },
      "execution_count": null,
      "outputs": []
    },
    {
      "cell_type": "markdown",
      "source": [
        "We found out that no of obsrvation with host name as michael is <b>417</b> and no of observations with host_id as 219517861 is <b>327</b>.So we can say that there are similar names for different hotels. So insstead of using host_name to find out highest apartments we will use host_ids."
      ],
      "metadata": {
        "id": "M5R5EBqf4V-F"
      }
    },
    {
      "cell_type": "code",
      "source": [
        "# get the name of host with highest no of apartments\n",
        "host_name = df[df['host_id']==219517861].host_name.unique()"
      ],
      "metadata": {
        "id": "n2ygrKwS50ou"
      },
      "execution_count": null,
      "outputs": []
    },
    {
      "cell_type": "code",
      "source": [
        "host_name"
      ],
      "metadata": {
        "id": "6r23YgHn6dlk"
      },
      "execution_count": null,
      "outputs": []
    },
    {
      "cell_type": "markdown",
      "source": [
        "We can infer that the person <b>Sonder</b> owns highest no of apartments."
      ],
      "metadata": {
        "id": "u6KxEw2H6zWo"
      }
    },
    {
      "cell_type": "markdown",
      "source": [
        "Lets find some info about Sonder Apartments"
      ],
      "metadata": {
        "id": "7e_175Ay7cZI"
      }
    },
    {
      "cell_type": "code",
      "source": [
        "df_sonder = df[df['host_name']=='Sonder (NYC)']\n",
        "df_sonder.groupby(['neighbourhood_group','neighbourhood'])['neighbourhood'].count().unstack().head()"
      ],
      "metadata": {
        "id": "uxNtOrd17ikU"
      },
      "execution_count": null,
      "outputs": []
    },
    {
      "cell_type": "markdown",
      "source": [
        "From above result we can  see that **Sonder have only one neighborhood group ie. Manhattan** and all all its neighborhhod location falls under it"
      ],
      "metadata": {
        "id": "PkZD2kBw9WJl"
      }
    },
    {
      "cell_type": "markdown",
      "source": [
        "## **Question 2) Which are the top 10 neighbourhood which are having maximum number of appartments for airbnb ?**"
      ],
      "metadata": {
        "id": "2ELIol8m99sc"
      }
    },
    {
      "cell_type": "code",
      "source": [
        "df['neighbourhood'].value_counts().head(10)"
      ],
      "metadata": {
        "id": "RaGrCzqg-ul7"
      },
      "execution_count": null,
      "outputs": []
    },
    {
      "cell_type": "code",
      "source": [
        "# Plotting the top 10 neighborhood having highest no of apartments\n",
        "pd.value_counts(df['neighbourhood'])[:10].plot.bar()\n",
        "plt.ylabel('Apartments')\n",
        "plt.title('Top 10 neighbourhood group having highest no of apartments')"
      ],
      "metadata": {
        "id": "CN01dUKG_QDq"
      },
      "execution_count": null,
      "outputs": []
    },
    {
      "cell_type": "code",
      "source": [
        "# Plotting the top neighborhood groups having highest number of apartmnets\n",
        "df['neighbourhood_group'].value_counts()"
      ],
      "metadata": {
        "id": "sUugW7JSAXlm"
      },
      "execution_count": null,
      "outputs": []
    },
    {
      "cell_type": "code",
      "source": [
        "#plotting the data\n",
        "pd.value_counts(df['neighbourhood_group'])[0:10].plot.bar()\n",
        "plt.ylabel('Apartments')\n",
        "plt.title('Top 5 neighborurhood groups having highetst no of apartments')"
      ],
      "metadata": {
        "id": "nFYJ5PPrBlPX"
      },
      "execution_count": null,
      "outputs": []
    },
    {
      "cell_type": "markdown",
      "source": [
        "# **Question 3) What are the neighbourhood in each group which are having maximum prices in thier rspective neighbourhood_group ?**"
      ],
      "metadata": {
        "id": "7iGTbVvPDsV8"
      }
    },
    {
      "cell_type": "code",
      "source": [
        "# get the dataframe of each and every neighborhood groups\n",
        "df_manhattan = df[df['neighbourhood_group']=='Manhattan']\n",
        "df_brooklyn = df[df['neighbourhood_group']=='Brooklyn']\n",
        "df_queens = df[df['neighbourhood_group']=='Queens']\n",
        "df_bronx = df[df['neighbourhood_group']=='Bronx']\n",
        "df_staten_island = df[df['neighbourhood_group']=='Staten Island']"
      ],
      "metadata": {
        "id": "RPAqH4ZlD4ZE"
      },
      "execution_count": null,
      "outputs": []
    },
    {
      "cell_type": "markdown",
      "source": [
        "Lets see the top neightbourhood with maximum prices in manhattan"
      ],
      "metadata": {
        "id": "P3hilI_MEtKh"
      }
    },
    {
      "cell_type": "code",
      "source": [
        "top_3_manhattan = df_manhattan[['neighbourhood','price']].sort_values(by ='price',ascending=False).reset_index()[0:3]\n",
        "top_3_manhattan.drop('index',axis=1)"
      ],
      "metadata": {
        "id": "pIVvd14eFQG8"
      },
      "execution_count": null,
      "outputs": []
    },
    {
      "cell_type": "markdown",
      "source": [
        "Top 3 neighbourhoods for brooklyn"
      ],
      "metadata": {
        "id": "tUcJbO5cJrkO"
      }
    },
    {
      "cell_type": "code",
      "source": [
        "top_3_brooklyn = df_brooklyn[['neighbourhood','price']].sort_values(by ='price',ascending=False).reset_index()[0:3]\n",
        "top_3_brooklyn.drop('index',axis=1)"
      ],
      "metadata": {
        "id": "Nsiu_-seH0iO"
      },
      "execution_count": null,
      "outputs": []
    },
    {
      "cell_type": "markdown",
      "source": [
        "Top 3 neighbourhood for Queens"
      ],
      "metadata": {
        "id": "jVIWaQQbKtMC"
      }
    },
    {
      "cell_type": "code",
      "source": [
        "top_3_queens = df_queens[['neighbourhood','price']].sort_values(by ='price',ascending=False).reset_index()[0:3]\n",
        "top_3_queens.drop('index',axis=1)"
      ],
      "metadata": {
        "id": "-nULPE4OK0UG"
      },
      "execution_count": null,
      "outputs": []
    },
    {
      "cell_type": "markdown",
      "source": [
        "Top 3 neighbourhood for Bronx "
      ],
      "metadata": {
        "id": "2VHMuDPxLC3u"
      }
    },
    {
      "cell_type": "code",
      "source": [
        "top_3_bronx = df_bronx[['neighbourhood','price']].sort_values(by ='price',ascending=False).reset_index()[0:3]\n",
        "top_3_bronx.drop('index',axis=1)"
      ],
      "metadata": {
        "id": "YwHHjv9HLI21"
      },
      "execution_count": null,
      "outputs": []
    },
    {
      "cell_type": "markdown",
      "source": [
        "Top 3 neighbourhood for state Island"
      ],
      "metadata": {
        "id": "VLNesK-DLdLI"
      }
    },
    {
      "cell_type": "code",
      "source": [
        "top_3_staten_island = df_staten_island[['neighbourhood','price']].sort_values(by ='price',ascending=False).reset_index()[0:3]\n",
        "top_3_staten_island.drop('index',axis=1)"
      ],
      "metadata": {
        "id": "nAei2LLmLh7m"
      },
      "execution_count": null,
      "outputs": []
    },
    {
      "cell_type": "markdown",
      "source": [
        "# **Question 4) How  neighbourhood is related with reviews ?**"
      ],
      "metadata": {
        "id": "sIk7E_GSNJk7"
      }
    },
    {
      "cell_type": "markdown",
      "source": [
        "### **Top5 Neighbourhood is having highest review per month**"
      ],
      "metadata": {
        "id": "hAlsCZadNO9u"
      }
    },
    {
      "cell_type": "code",
      "source": [
        "df.fillna({'reviews_per_month':0},inplace=True)\n"
      ],
      "metadata": {
        "id": "gfmzCJ6cSimq"
      },
      "execution_count": null,
      "outputs": []
    },
    {
      "cell_type": "code",
      "source": [
        "df.info()"
      ],
      "metadata": {
        "id": "XtOu94JvSwYL"
      },
      "execution_count": null,
      "outputs": []
    },
    {
      "cell_type": "code",
      "source": [
        "\n",
        "top_review_per_month_neighbourhood = df[['neighbourhood','reviews_per_month']].sort_values(by='reviews_per_month',ascending=False).reset_index()[:5]\n",
        "top_review_per_month_neighbourhood.drop('index',axis=1)"
      ],
      "metadata": {
        "id": "X5KP_ym9OwZe"
      },
      "execution_count": null,
      "outputs": []
    },
    {
      "cell_type": "markdown",
      "source": [
        "Top neighborhood having highest reviews"
      ],
      "metadata": {
        "id": "W-brVi5gWb3z"
      }
    },
    {
      "cell_type": "code",
      "source": [
        "df.groupby('neighbourhood')['number_of_reviews'].sum().sort_values(ascending=False).reset_index().head(5)\n"
      ],
      "metadata": {
        "id": "RQ4azBb6Wmpq"
      },
      "execution_count": null,
      "outputs": []
    },
    {
      "cell_type": "markdown",
      "source": [
        "## **Question 5)  What can we learn from predictions? (ex: locations, prices, reviews, etc)**"
      ],
      "metadata": {
        "id": "4y8-zSAZZsew"
      }
    },
    {
      "cell_type": "code",
      "source": [
        "plt.figure(figsize=(15,8))\n",
        "sns.scatterplot(x=df['longitude'],y=df['latitude'], hue=df['neighbourhood_group'])\n",
        "plt.show()"
      ],
      "metadata": {
        "id": "lpdUrvUdZytE"
      },
      "execution_count": null,
      "outputs": []
    },
    {
      "cell_type": "markdown",
      "source": [
        "#####**from the geographical location I can observe that the building apartments are densely located for Brooklyn,Manhattan,Queens and Bronx.. But aparments of Staten Island are sparsely located.**\n",
        "#####**No apartment of specific neghborhood is interfering with the another neighborhood location..**"
      ],
      "metadata": {
        "id": "kLFMERf7LAm5"
      }
    },
    {
      "cell_type": "markdown",
      "source": [
        "### **Question 6) What is the distribution of the room type and its distribution over the location  ?** "
      ],
      "metadata": {
        "id": "GDwqlC-ja6xb"
      }
    },
    {
      "cell_type": "code",
      "source": [
        "# First of all get the distribution of different type of apartments\n",
        "plt.figure(figsize=(8,5))\n",
        "df['room_type'].value_counts().plot(kind='bar',color=['r','g','b'])\n",
        "plt.ylabel('No of apartments')\n",
        "plt.title('Room Types and Distribution')"
      ],
      "metadata": {
        "id": "TYtU3Sxma9Wk"
      },
      "execution_count": null,
      "outputs": []
    },
    {
      "cell_type": "markdown",
      "source": [
        "#**From abouve observation we can state that there are unequal distribtuions of room_types**\n",
        "\n",
        "**Most people opt for privacy or for big entire home apartment**\n",
        "<p>Hence Shared room/aprtments are very less in number</p>"
      ],
      "metadata": {
        "id": "bGFpU2BHdamc"
      }
    },
    {
      "cell_type": "code",
      "source": [
        "# now lets check their distribution geographically\n",
        "plt.figure(figsize=(15,8))\n",
        "sns.scatterplot(x=df['longitude'],y=df['latitude'], hue=df['room_type'])\n",
        "plt.show()"
      ],
      "metadata": {
        "id": "8u3VumVzc6VM"
      },
      "execution_count": null,
      "outputs": []
    },
    {
      "cell_type": "markdown",
      "source": [
        "## **Question 7)    How does the Room_type is distributed over Neighbourhood_Group and the ratios of respective room_types  over each neighbourhood_group ?**"
      ],
      "metadata": {
        "id": "nAeDY3MCoYzS"
      }
    },
    {
      "cell_type": "code",
      "source": [
        "# First storing all the values of room_types in list\n",
        "manhattan_value = df_manhattan['room_type'].value_counts().values\n",
        "brooklyn_value = df_brooklyn['room_type'].value_counts().values\n",
        "bronx_value = df_bronx['room_type'].value_counts().values\n",
        "staten_island_value = df_staten_island['room_type'].value_counts().values\n",
        "queens_value = df_queens['room_type'].value_counts().values\n",
        "x = np.array([1,4,7])\n",
        "plt.figure(figsize=(10,5))\n",
        "#plotting the graph\n",
        "plt.bar(x,manhattan_value,0.5,label='Manhattan')\n",
        "plt.bar(x+0.2,brooklyn_value,0.5,label='Brooklyn')\n",
        "plt.bar(x+0.4,bronx_value,0.5,label='Bronx')\n",
        "plt.bar(x+0.6,staten_island_value,0.5,label='Staten Island')\n",
        "plt.bar(x+0.8,queens_value,0.5,label='Queens')\n",
        "plt.xlabel('Room Types')\n",
        "plt.ylabel('No of Rooms')\n",
        "plt.title('Distrbution of Room types in different Neighborhood Groups')\n",
        "plt.xticks(x+0.4,('Entire Room','Private Room','Shared'))\n",
        "plt.legend(loc='best')\n",
        "plt.show()"
      ],
      "metadata": {
        "id": "EMxc0JWpo1QU"
      },
      "execution_count": null,
      "outputs": []
    },
    {
      "cell_type": "markdown",
      "source": [
        "### **Question 8) How the price column is distributed over room_type and are there any Surprising items in price column ?**"
      ],
      "metadata": {
        "id": "qiEoflfQ7H9k"
      }
    },
    {
      "cell_type": "code",
      "source": [
        "df_price = df[df['price']!=0]"
      ],
      "metadata": {
        "id": "lCXAKVdZ7MSx"
      },
      "execution_count": null,
      "outputs": []
    },
    {
      "cell_type": "code",
      "source": [
        "#Plotting the box plot between room_types and price\n",
        "sns.set_theme(style='whitegrid')\n",
        "sns.boxplot(y='room_type',x='price',hue='room_type',palette='Set3',linewidth=1.5,fliersize=1.5,data=df_price)"
      ],
      "metadata": {
        "id": "ozIdrbKO7SlC"
      },
      "execution_count": null,
      "outputs": []
    },
    {
      "cell_type": "markdown",
      "source": [
        "We can see there are many outliers for each of the room types.. So lets check why there is so high price  or what else can we conclude about hosts having highest price for the rooms"
      ],
      "metadata": {
        "id": "PG0aJ6mU71Jp"
      }
    },
    {
      "cell_type": "code",
      "source": [
        "df_price[df_price['price']== df_price.price.max()][['host_name','reviews_per_month','last_review','availability_365','price','neighbourhood_group']].reset_index().drop('index',axis=1).head(10)"
      ],
      "metadata": {
        "id": "IGUY83Xa8Jkg"
      },
      "execution_count": null,
      "outputs": []
    },
    {
      "cell_type": "markdown",
      "source": [
        "**Clearly if i would have working in Airbnb I would have suggested the following** \n",
        "\n",
        "**1)    kathrine and Erin have price so high and having no availability then what is the benifit of keeping too high price  .**\n",
        "\n",
        "\n",
        "**2) The last review is also 2-3 years back (as the data was collected in 2019)  which is also bad** \n",
        "\n",
        "\n",
        "**3) The review may be low as there may be very few people who is staying in kathrine, Erin and jelena apartment so might have less reviews per month**\n",
        "\n",
        "\n",
        "**4) I would have suggested to keep moderate(average) price so that more people would visit and stay in her appartment , it would also increase her reviews per month**\n"
      ],
      "metadata": {
        "id": "AyCk8lmC-Izu"
      }
    },
    {
      "cell_type": "markdown",
      "source": [
        "## **Question 9)   Which are the top 5 hosts that have  obatained heighest no. of reviews ?**"
      ],
      "metadata": {
        "id": "LAmteIm3-UpA"
      }
    },
    {
      "cell_type": "code",
      "source": [
        "df.groupby(['host_id','host_name'])['number_of_reviews'].sum().sort_values(ascending=False).reset_index().head(5)"
      ],
      "metadata": {
        "id": "xn7decWH-Zyt"
      },
      "execution_count": null,
      "outputs": []
    },
    {
      "cell_type": "markdown",
      "source": [
        "## **Question 10)  What is the average preferred price by customers according to the neighbourhood_group for each category of Room_type?**"
      ],
      "metadata": {
        "id": "VJFZmEKGVs_X"
      }
    },
    {
      "cell_type": "code",
      "source": [
        "# Lets see the average price for each neighborhood group \n",
        "average_price = df.groupby(['neighbourhood_group','room_type'])['price'].mean().unstack()\n",
        "average_price"
      ],
      "metadata": {
        "id": "1x1gBwWrV5_c"
      },
      "execution_count": null,
      "outputs": []
    },
    {
      "cell_type": "markdown",
      "source": [
        "## **Lets visualise this distribution**"
      ],
      "metadata": {
        "id": "DK7iWvMyWlaN"
      }
    },
    {
      "cell_type": "code",
      "source": [
        "average_price.plot.bar(figsize=(15,8),ylabel='price',title='Average Price Vs NeighbourhoodGrou')"
      ],
      "metadata": {
        "id": "B-X9tNE3WqKQ"
      },
      "execution_count": null,
      "outputs": []
    },
    {
      "cell_type": "markdown",
      "source": [
        "#**Observation : We can see that Manhattan is costlier for every kind of room.** <br>\n",
        "But I think we can make it more useful for buissness implimentation if we do some analysis on successfull hosts according to the heighest no of reviews so that we can suggest this price to our host for good buisness\n"
      ],
      "metadata": {
        "id": "hab1fO61a55M"
      }
    },
    {
      "cell_type": "markdown",
      "source": [
        "##    **Question 11) What is the average price preferred for Keeping good number_of_reviews according to neighbourhood_group ?**"
      ],
      "metadata": {
        "id": "CSpMXss6bcWd"
      }
    },
    {
      "cell_type": "code",
      "source": [
        "# creating a diffrent Dataframe df_succesfull_host on the actual df Dataframe on the basis of heighest number of reviews \n",
        "# first sorted the df on number_of_reviews and room_type and applied groupby on neighbourhood,room_type\n",
        "# then selected neighbourhood_group, number_of_reviews, room_type and price  \n",
        "\n",
        "df_succesfull_hosts=df.sort_values(by=['number_of_reviews'],ascending=False).groupby(['neighbourhood_group','room_type'])['neighbourhood_group','room_type','number_of_reviews','price'].head(10)\n",
        "# now applying groupby on df_succesfull_hosts by neighbourhood_group and room_type then calculating average price for respected grouby objcet\n",
        "\n",
        "avg_preffered_price_df=df_succesfull_hosts.groupby(['neighbourhood_group','room_type'])['price'].mean().unstack()\n",
        "avg_preffered_price_df"
      ],
      "metadata": {
        "id": "9iMb8IeylvvC"
      },
      "execution_count": null,
      "outputs": []
    },
    {
      "cell_type": "code",
      "source": [
        "avg_preffered_price_df.plot.bar(figsize=(15,5),ylabel='Average Price Prefered')"
      ],
      "metadata": {
        "id": "w1kQ40gtu8lX"
      },
      "execution_count": null,
      "outputs": []
    },
    {
      "cell_type": "markdown",
      "source": [
        "### **OBSERVATIONS**\n",
        "\n",
        "*  **1) clearly if we compare the results with previous result (i.e when we calculated average prefered price by people in each neighbourhood_group with different room_types) we can see that this result is bit different and more usefull**\n",
        "\n",
        "\n",
        "\n",
        "\n",
        "\n",
        "*  **2) As a analyst I would  suggest to keep price in this range to  get more number of reviews in specific room type and at particular place**\n"
      ],
      "metadata": {
        "id": "yV_OA7WyvIy8"
      }
    },
    {
      "cell_type": "markdown",
      "source": [
        "## **Question 12) Which host are busiest and optimal metrix used to calculate their occupancy percentage?**"
      ],
      "metadata": {
        "id": "uZlVunlwkNZt"
      }
    },
    {
      "cell_type": "markdown",
      "source": [
        "we will keep only the availability_365 > 0, because availability_365 =0 doesnt required for the analysis this availability_365=0 most probably listings have stopped thier buisness with Airbnb"
      ],
      "metadata": {
        "id": "r_dDbdB0kQe0"
      }
    },
    {
      "cell_type": "code",
      "source": [
        "# take only those data having availability_365 > 0\n",
        "df = df[df['availability_365']>0]\n",
        "df"
      ],
      "metadata": {
        "id": "ZTCYjtKIkZes"
      },
      "execution_count": null,
      "outputs": []
    },
    {
      "cell_type": "code",
      "source": [
        "# Now take only the data where availability_365<=0 because availability >365 will not make any sense\n",
        "df = df[df.availability_365 <=365]\n",
        "df"
      ],
      "metadata": {
        "id": "uIbxApe9lbiO"
      },
      "execution_count": null,
      "outputs": []
    },
    {
      "cell_type": "markdown",
      "source": [
        "A metric is a system of measurement in this case 'busiest' which gives a relative comparision between the hosts. The metric defined below is a proxy to estimate the busyness of a host. The metric here using the fore-mentioned columns estimates the percentage of occupancy the property has seen in one period of business. The metric mean across various properties for a host gives the average occupancy rate/percentage the host. The higher the percentage, the busier a host is said to be.\n",
        "\n",
        "\n",
        "The 3 columns afore-mentioend are taken into consideration for calculating this metric.\n",
        "\n",
        "\n",
        "Firstly, the metric needs the available months (one period of business) the host is open for business/accepting bookings :-\n",
        "\n",
        "***`available months = available days / (365/12)`***\n",
        "\n",
        "\n",
        "For the given months the property is open for business, next is to estimate the maximum possible bookings a property can have through the available days, here the assumption is that, every customer stays exactly equal to minimum nights required by the listing :-\n",
        "\n",
        "***`total possible bookings = available days / minimum nights`***\n",
        "\n",
        "\n",
        "The next step is to estimate the actual number of bookings that occured in the year. The assumption made here is that the number of reviews recieved per month is analogous to that many customers on average booked/stayed in this property. Hence we will estimate bookings as :-\n",
        "\n",
        "***`estimated bookings = reviews per month x available months`***\n",
        "Using all the above calculations, the percentage of occupancy throughout the year is gives as :-\n",
        "\n",
        "occupancy % = estimated bookings / total possible bookings x 100\n",
        "\n",
        "**POINT TO NOTE** - According to the assumptions and calculations done above to calculate the metric, a property with 1 customer over the entire period of business as the property's total possible booking records a 100% when the estimated bookings is also 1. In simpler terms, if the expected booking count is calculated to be 1 and the property hosts 1 customer, then the property is said to be 100% busy."
      ],
      "metadata": {
        "id": "ZK-hFvRhmhxL"
      }
    },
    {
      "cell_type": "code",
      "source": [
        "#designing the metrics for busy apartments\n",
        "avg_month_days = 30\n",
        "df['total_bookings'] = df['availability_365']/df['minimum_nights']\n",
        "df['available_months'] = df['availability_365']/avg_month_days \n",
        "df['estimated_bookings'] = df['reviews_per_month']*df['available_months']\n",
        "# now only take those which has estimated bookings less than or equal to total_bookings\n",
        "df = df[df.estimated_bookings <= df.total_bookings]\n",
        "df['occupancy_percentage'] = df['estimated_bookings']*100/df['total_bookings']\n",
        "df"
      ],
      "metadata": {
        "id": "qL_xeIm0qyoj"
      },
      "execution_count": null,
      "outputs": []
    },
    {
      "cell_type": "markdown",
      "source": [
        "**The `host_name` column as discussed before contains repeating names, the `calculated_host_listings_count` gives us a fair idea of how many properties in total a host owns. The use of `host_id` as primary for the groupby function is the only way. Followed by `host_name` for groupby since the names of the hosts is important in the analysis.\n",
        "The mean is used as the aggregating function for the `occupancy_percentage` and price columns to get a fair idea about the general trend for each host, whereas for the `neighbourhood_group` and `neighbourhood` columns, the mode indicating the location where majority of host's properties reside, is used. The mode is chosen for the location columns because, the mode i.e. most frequent location for the property means the majority of contributions to the `occupancy_percentage` come from here.**"
      ],
      "metadata": {
        "id": "1-4dvw4Eu9kn"
      }
    },
    {
      "cell_type": "code",
      "source": [
        "host_listing_count=df.groupby(['host_id','host_name'])['name'].size().sort_values(ascending=False).reset_index()"
      ],
      "metadata": {
        "id": "qs4Gn68bwczG"
      },
      "execution_count": null,
      "outputs": []
    },
    {
      "cell_type": "code",
      "source": [
        "host_listing_count.rename(columns={'name':'Total Apartments'},inplace=True)\n",
        "host_listing_count"
      ],
      "metadata": {
        "id": "9skVVkwWzMqh"
      },
      "execution_count": null,
      "outputs": []
    },
    {
      "cell_type": "code",
      "source": [
        "host_listing_count['Total Apartments'].describe()\n",
        "host_listing_count.info()"
      ],
      "metadata": {
        "id": "y_fMym5Y15DW"
      },
      "execution_count": null,
      "outputs": []
    },
    {
      "cell_type": "code",
      "source": [
        "#Visualising the owning capacity of hosts using pie chart\n",
        "# Check top 10 owners distribution\n",
        "\n",
        "y = np.array(host_listing_count['Total Apartments'])[0:10]\n",
        "mylabels = host_listing_count.host_name.values[0:10]\n",
        "plt.figure(figsize=(10, 10))\n",
        "plt.pie(y, labels=mylabels, autopct='%1.0f%%')\n",
        "plt.show()"
      ],
      "metadata": {
        "id": "eeZN5tEX2kXD"
      },
      "execution_count": null,
      "outputs": []
    },
    {
      "cell_type": "markdown",
      "source": [
        "### **Now finding the best preferred apartments by the customers using the occupancy percentage**\n",
        "\n",
        "\n",
        "\n"
      ],
      "metadata": {
        "id": "747hFJuC7L1f"
      }
    },
    {
      "cell_type": "code",
      "source": [
        "grouped = df[[\n",
        "    'host_id',\n",
        "    'host_name',\n",
        "    'occupancy_percentage',\n",
        "    'price',\n",
        "    'neighbourhood_group',\n",
        "    'neighbourhood'\n",
        "]].groupby(['host_id','host_name'])\n",
        "\n",
        "df_occupancy = grouped.agg({\n",
        "    'occupancy_percentage':'mean',\n",
        "    'price':'mean',\n",
        "    'neighbourhood_group':pd.Series.mode,\n",
        "    'neighbourhood':pd.Series.mode\n",
        "}).reset_index()"
      ],
      "metadata": {
        "id": "jhDsX8Va7gbI"
      },
      "execution_count": null,
      "outputs": []
    },
    {
      "cell_type": "code",
      "source": [
        "df_occupancy"
      ],
      "metadata": {
        "id": "YQUPfdxe-qUW"
      },
      "execution_count": null,
      "outputs": []
    },
    {
      "cell_type": "markdown",
      "source": [
        "### **The grouped table now contains the average occupany percentage for every host. Sorting the table to obtain the top 10 busiest hosts for Airbnb.**"
      ],
      "metadata": {
        "id": "P0_9g7FwAFsp"
      }
    },
    {
      "cell_type": "code",
      "source": [
        "df_occupancy.sort_values('occupancy_percentage',ascending=False).head(10)"
      ],
      "metadata": {
        "id": "dsXObFvNALZo"
      },
      "execution_count": null,
      "outputs": []
    },
    {
      "cell_type": "code",
      "source": [
        "# Lets visualise the occupancy percentage of top 10 busiest hosts\n",
        "plt.figure(figsize=(11,4))\n",
        "sorted_val=df_occupancy[['host_name','occupancy_percentage']].sort_values(by='occupancy_percentage',ascending=False).head(10)\n",
        "sns.barplot(x='host_name',y='occupancy_percentage',data=sorted_val)\n",
        "plt.tight_layout()"
      ],
      "metadata": {
        "id": "7yRPWv2cAgOv"
      },
      "execution_count": null,
      "outputs": []
    },
    {
      "cell_type": "markdown",
      "source": [
        "# **Conclusion**"
      ],
      "metadata": {
        "id": "gCX9965dhzqZ"
      }
    },
    {
      "cell_type": "markdown",
      "source": [
        "#####1)By using monthly availability trends analyzed using all the yearly data provided it can help in Increasing the prices slightly could help in increasing the revenue.\n",
        "#####2)We found out that no of obsrvation with host name as **michael** is **417** and no of observations with host_id as **219517861 **is 327.So we can say that there are similar host names for different hotels. So insstead of using host_name to find out highest apartments we will use host_ids.\n",
        "#####3)**Sonder(NYC)** owns highest number of Apartments:**327**\n",
        "#####4)Most people opt for privacy or for big entire home apartment.Hence Shared room/aprtments are very less in number\n",
        "#####5)**Kathrine** and **Erin** have price so high and having no availability then there is no benifit of keeping too high price .The last review is also 2-3 years back (as the data was collected in 2019) which is also bad The review may be low as there may be very few people who is staying in kathrine, Erin and jelena apartment so might have less reviews per month .I would have suggested to keep moderate(average) price so that more people would visit and stay in her appartment , it would also increase its reviews per month\n",
        "######6) **Maintaining Optimal price**, **suitable geogrphical locations** and the a**vailability options thoughout the year** is the foremost criterion to increast the business output. \n",
        "\n"
      ],
      "metadata": {
        "id": "Fjb1IsQkh3yE"
      }
    },
    {
      "cell_type": "code",
      "source": [],
      "metadata": {
        "id": "6eLZY4wwPIm3"
      },
      "execution_count": null,
      "outputs": []
    }
  ]
}